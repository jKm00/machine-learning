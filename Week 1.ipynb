{
 "cells": [
  {
   "cell_type": "markdown",
   "metadata": {},
   "source": [
    "# Problem types\n",
    "\n",
    "- Binary classification: The outcome can be only two types (e.g. dog or cat)\n",
    "- Multiclass classification: Outcome can be more then two types (e.g. handwritten numbers: 0-9)\n",
    "- Multilabel classification: Outcome can be labeled with more than one label (e.g. dog or cat: a picture can contain both a dog and a cat, and should therefore be labeled with both dog and cat)\n",
    "- Regression: For example, estimating anual income based on experience, age osv...\n",
    "\n",
    "_All models are regression, but can convert regression into classification. E.g. everything less than 0.5 is 0, and 0.5 and greater is 1_\n",
    "\n",
    "# Features / Targets\n",
    "- Features: Inputs for the model\n",
    "- Targets: Things the model will return\n",
    "\n",
    "# Overfitting / Underfitting\n",
    "\n",
    "- Overfitting: The model is very complex with a small dataset. The model will just memorize the data and have a high accuracy during traning. With a never-before-seen dataset it will performe very poorly.\n",
    "- Underfitting: Not enough data during testing to tune the model.\n",
    "\n",
    "# Develop a benchmark / baseline model\n",
    "\n",
    "- Select a model to train using [X, Y]\n",
    "- Goal: achieve a model that can generalize, perform well on never-before-seen data\n",
    "- Split data into 3 sets:\n",
    "  - training\n",
    "  - validaiton\n",
    "  - test\n",
    "- Training: adjust weights\n",
    "- Validation: used as test set for the training set\n",
    "  - Helps detect overfitting or underfitting during training\n",
    "  - Can stop early, so no time is waisted (eary stopping)\n",
    "- In testing we measure the generalization power of your model\n",
    "\n",
    "# Feature engineering\n",
    "\n",
    "- Converting complex data into less complex data so its easier to process for the model. The number of inputs (features) for the model should decrease making the model less complex.  \n",
    "- Converting the data can take to much time and computing power. Might not be worth.\n",
    "\n",
    "_Clock example_\n",
    "\n"
   ]
  }
 ],
 "metadata": {
  "kernelspec": {
   "display_name": "Python 3.8.3 64-bit ('anaconda3')",
   "language": "python",
   "name": "python3"
  },
  "language_info": {
   "codemirror_mode": {
    "name": "ipython",
    "version": 3
   },
   "file_extension": ".py",
   "mimetype": "text/x-python",
   "name": "python",
   "nbconvert_exporter": "python",
   "pygments_lexer": "ipython3",
   "version": "3.8.3"
  },
  "vscode": {
   "interpreter": {
    "hash": "13ae93b16461af37ebfaaceb1bb3c0cc3550f0983bf9dbd913c288404fd40250"
   }
  }
 },
 "nbformat": 4,
 "nbformat_minor": 4
}
