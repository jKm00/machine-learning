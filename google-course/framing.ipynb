{
 "cells": [
  {
   "cell_type": "markdown",
   "metadata": {},
   "source": [
    "# Framing\n",
    "\n",
    "How to frame a task as a machine learning problem\n",
    "\n",
    "## What is (Supervised) Machine Learning?\n",
    "\n",
    "Models that combine inputs to predict useful outputs\n",
    "\n",
    "## Terminology\n",
    "\n",
    "### Labels: \n",
    "\n",
    "The variable we're trying to predict. Usually represented by the variable y\n",
    "\n",
    "### Features:\n",
    "\n",
    "Input variables describing our data. Usually represented by the variables {x_1, x_2, ..., x_n}\n",
    "\n",
    "### Example: \n",
    "\n",
    "Particular instance of data\n",
    "\n",
    "### Labeled example: \n",
    "\n",
    "Has features and labels. Used to train the model\n",
    "\n",
    "### Unlabeled example: \n",
    "\n",
    "Has features but not labels. Used for making predicitons on new data\n",
    "\n",
    "### Model: \n",
    "\n",
    "Maps examples to predicted labels\n",
    "\n",
    "- **Training** meas creating or learning the model.\n",
    "- **Inference** means applying the trained model to unlabeled examples.\n",
    "\n",
    "### Regression vs. classification\n",
    "\n",
    "**Regression** predicts a continuous value. E.g. predict the value of houses in California.  \n",
    "**Classification** predicts discrete values. E.g. predict if a email is spam of not\n"
   ]
  }
 ],
 "metadata": {
  "kernelspec": {
   "display_name": "Python 3.8.3 64-bit ('anaconda3')",
   "language": "python",
   "name": "python3"
  },
  "language_info": {
   "name": "python",
   "version": "3.8.3"
  },
  "orig_nbformat": 4,
  "vscode": {
   "interpreter": {
    "hash": "13ae93b16461af37ebfaaceb1bb3c0cc3550f0983bf9dbd913c288404fd40250"
   }
  }
 },
 "nbformat": 4,
 "nbformat_minor": 2
}
