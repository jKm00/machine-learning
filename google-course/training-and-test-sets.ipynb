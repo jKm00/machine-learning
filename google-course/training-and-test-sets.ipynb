{
 "cells": [
  {
   "cell_type": "markdown",
   "metadata": {},
   "source": [
    "# Training & Test Sets\n",
    "\n",
    "If you have a big enough data set, you could split it into a train and test set without loosing confident that your model is good.\n",
    "\n",
    "## How you want to split your data\n",
    "\n",
    "- By having a large train set, your model will be better fitted. By having a large test set you will have more confidence that your model has generalized well or not.\n",
    "- Need to randomize your data first before splitting so you are sure all features are equally represented in both the train and the test sets.\n",
    "\n",
    "## Note\n",
    "\n",
    "Never train on test data. If you get surprinsingly good result, make sure you have split your data correctly and not trained on your test set!"
   ]
  }
 ],
 "metadata": {
  "kernelspec": {
   "display_name": "Python 3.9.13 64-bit (microsoft store)",
   "language": "python",
   "name": "python3"
  },
  "language_info": {
   "name": "python",
   "version": "3.9.13"
  },
  "orig_nbformat": 4,
  "vscode": {
   "interpreter": {
    "hash": "fa0e17ffa6e5697698eabc0d9bf0e610209003e790a1ca5255fe63b8f13b3a22"
   }
  }
 },
 "nbformat": 4,
 "nbformat_minor": 2
}
