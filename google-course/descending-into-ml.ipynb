{
 "cells": [
  {
   "cell_type": "markdown",
   "metadata": {},
   "source": [
    "# Descending into ML\n",
    "\n",
    "## Linear regression\n",
    "\n",
    "A method for finding the straight line or hyperplane that best fits a set of points.\n",
    "\n",
    "This line can be described as:\n",
    "\n",
    "$$y' = b + w_1x_1$$\n",
    "\n",
    "where:\n",
    "- $y'$ is the value we're trying to predict\n",
    "- $w_1$ is the weight/slope of the line\n",
    "- $x_1$ is the value of our input feature\n",
    "- $b$ is the bias/y-intercept\n",
    "\n",
    "This only uses one feature, however we can expant it to use as many as we want:\n",
    "\n",
    "$$y' = b + w_1x_1 + w_2x_2 + ... + w_nx_n$$\n",
    "\n",
    "## Training and Loss\n",
    "\n",
    "**Training** means determining good values for all the weights and the bias from labeled examples. In supervised learning, a machine learning algorithm build a model by examining many examples and attempting to find a model that minimizes loss. (**empirical risk minimization**)\n",
    "\n",
    "**Loss** is a number indication how bad the model's prediciton was on a single example. Perfect prediction equals loss of zero, otherwise the loss is greater. Want to have low loss on average across al examples.\n",
    "\n",
    "### Squared loss ($L_2 loss$)\n",
    "\n",
    "To find the square loss of one example use:\n",
    "\n",
    "$$(observation - prediction(x))^2$$\n",
    "$$(y - y')^2$$\n",
    "\n",
    "If we take the sum of all squared errors, we get the **mean square error (MSE)**. Formula:\n",
    "\n",
    "$$MSE = 1/N \\sum_{(x,y) \\in D} (y - prediction(x))^2$$\n",
    "\n",
    "where:\n",
    "\n",
    "- $(x,y)$ is an example\n",
    "- $prediction(x)$ is the predicted value\n",
    "- $y$ is the actual value\n",
    "- $D$ is a data set containing many labeled examples\n",
    "- $N$ is the number of examples in D\n",
    "\n",
    "_MSE is common, but not the only nor the best loss function_"
   ]
  }
 ],
 "metadata": {
  "kernelspec": {
   "display_name": "Python 3.8.3 64-bit ('anaconda3')",
   "language": "python",
   "name": "python3"
  },
  "language_info": {
   "name": "python",
   "version": "3.8.3"
  },
  "orig_nbformat": 4,
  "vscode": {
   "interpreter": {
    "hash": "13ae93b16461af37ebfaaceb1bb3c0cc3550f0983bf9dbd913c288404fd40250"
   }
  }
 },
 "nbformat": 4,
 "nbformat_minor": 2
}
