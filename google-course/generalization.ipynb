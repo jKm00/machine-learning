{
 "cells": [
  {
   "cell_type": "markdown",
   "metadata": {},
   "source": [
    "# Generalization\n",
    "\n",
    "## Overfitting\n",
    "\n",
    "Overfitting is a bad thing. It happens when the model performes very well on the train set, but very poorly on the test set. This means it has basiaclly memorized the train set but has not generalized so that it will perform well on never before seen data.\n",
    "\n",
    "Fundamental challenge of machine learnign is to fit a model well to our data, as well as fitting the data as simple as possible (Ockham's razor)\n",
    "\n",
    "## Train / test\n",
    "\n",
    "Split data into train and test sets to validate. Use train set to train model and test set to test the model after training. If it performes well during training and not testing, the model is likely overfitted. If it performes well on both, you probaly have a good model\n",
    "\n",
    "## The ML fine print\n",
    "\n",
    "- We draw example **independently and identicall** at random from the distribution\n",
    "- The distribution is **stationary**, the distribution doesn't change within the data set\n",
    "- We draw examples from partitions from the **same distribution**\n",
    "\n",
    "_In practice, we sometimes violates these assumptions:_\n",
    "\n",
    "- Model that chooses ads: Would vialote if the model chooses bases on what ads the user has previously seen\n",
    "- Data set containing reatils sales inforamtion: User's pruchases change seasonally, which violates **stationarity**\n",
    "\n",
    "_Need to pay attention when vilating some of the assumptions_"
   ]
  }
 ],
 "metadata": {
  "kernelspec": {
   "display_name": "Python 3.9.13 64-bit (microsoft store)",
   "language": "python",
   "name": "python3"
  },
  "language_info": {
   "name": "python",
   "version": "3.9.13"
  },
  "orig_nbformat": 4,
  "vscode": {
   "interpreter": {
    "hash": "fa0e17ffa6e5697698eabc0d9bf0e610209003e790a1ca5255fe63b8f13b3a22"
   }
  }
 },
 "nbformat": 4,
 "nbformat_minor": 2
}
