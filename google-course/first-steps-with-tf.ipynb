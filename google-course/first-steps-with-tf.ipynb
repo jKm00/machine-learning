{
 "cells": [
  {
   "cell_type": "markdown",
   "metadata": {},
   "source": [
    "# Simple Linear Regression With Sunthetic Data\n",
    "\n",
    "Explore linear regression with simple database"
   ]
  },
  {
   "cell_type": "code",
   "execution_count": 1,
   "metadata": {},
   "outputs": [],
   "source": [
    "import pandas as pd\n",
    "import tensorflow as tf\n",
    "from matplotlib import pyplot as plt"
   ]
  },
  {
   "cell_type": "markdown",
   "metadata": {},
   "source": [
    "#### Helper methods. Will look more into these thinks later. For now just use them :)"
   ]
  },
  {
   "cell_type": "code",
   "execution_count": 2,
   "metadata": {},
   "outputs": [],
   "source": [
    "def build_module(my_learning_rate):\n",
    "  model = tf.keras.models.Sequential()\n",
    "  \n",
    "  model.add(tf.keras.layers.Dense(units=1, input_shape=(1,)))\n",
    "\n",
    "  model.compile(optimizer=tf.keras.optimizers.RMSprop(lr=my_learning_rate), loss=\"mean_squared_error\", metrics=[tf.keras.metrics.RootMeanSquaredError()])\n",
    "\n",
    "  return model\n",
    "\n",
    "def train_model(model, features, label, epochs, batch_size):\n",
    "  # Train with features and labels for specified ephocs\n",
    "  history = model.fit(x=features, y=label, batch_size=batch_size, epochs=epochs)\n",
    "  \n",
    "  # Trained model's weight and bias.\n",
    "  trained_weight = model.get_weights()[0]\n",
    "  trained_bias = model.get_weights()[1]\n",
    "\n",
    "  # List of epochs is stored separately from the rest of the history\n",
    "  epochs = history.epoch\n",
    "\n",
    "  # Gather a snapshot of each epoch\n",
    "  hist = pd.DataFrame(history.history)\n",
    "\n",
    "  # Model's root mean squared error at each epoch\n",
    "  rmse = hist[\"root_mean_squared_error\"]\n",
    "\n",
    "  return trained_weight, trained_bias, epochs, rmse"
   ]
  },
  {
   "cell_type": "markdown",
   "metadata": {},
   "source": [
    "#### Define the dataset"
   ]
  },
  {
   "cell_type": "code",
   "execution_count": 3,
   "metadata": {},
   "outputs": [],
   "source": [
    "my_features = ([1.0, 2.0, 3.0, 4.0, 5.0, 6.0, 7.0, 8.0, 9.0, 10.0, 11.0, 12.0])\n",
    "my_label = ([5.0, 8.8, 9.6, 14.2, 18.8, 19.5, 21.4, 26.8, 28.9, 32.0, 33.8, 38.2])"
   ]
  },
  {
   "cell_type": "markdown",
   "metadata": {},
   "source": [
    "#### Plot the dataset"
   ]
  },
  {
   "cell_type": "code",
   "execution_count": 5,
   "metadata": {},
   "outputs": [
    {
     "data": {
      "text/plain": [
       "[<matplotlib.lines.Line2D at 0x1713978d700>]"
      ]
     },
     "execution_count": 5,
     "metadata": {},
     "output_type": "execute_result"
    },
    {
     "data": {
      "image/png": "[encoded data removed]",
      "text/plain": [
       "<Figure size 432x288 with 1 Axes>"
      ]
     },
     "metadata": {
      "needs_background": "light"
     },
     "output_type": "display_data"
    }
   ],
   "source": [
    "plt.xlabel(\"features\")\n",
    "plt.ylabel(\"label\")\n",
    "\n",
    "plt.scatter(my_features, my_label) # Points\n",
    "plt.plot(my_features, my_label) # Line"
   ]
  },
  {
   "cell_type": "markdown",
   "metadata": {},
   "source": [
    "#### Specifing hyperparameters"
   ]
  },
  {
   "cell_type": "code",
   "execution_count": 15,
   "metadata": {},
   "outputs": [
    {
     "name": "stdout",
     "output_type": "stream",
     "text": [
      "Epoch 1/70\n",
      "12/12 [==============================] - 0s 333us/step - loss: 522.0451 - root_mean_squared_error: 22.8483\n",
      "Epoch 2/70\n",
      "12/12 [==============================] - 0s 333us/step - loss: 202.2572 - root_mean_squared_error: 14.2217\n",
      "Epoch 3/70\n",
      "12/12 [==============================] - 0s 334us/step - loss: 76.5504 - root_mean_squared_error: 8.7493\n",
      "Epoch 4/70\n",
      "12/12 [==============================] - 0s 334us/step - loss: 21.1495 - root_mean_squared_error: 4.5989\n",
      "Epoch 5/70\n",
      "12/12 [==============================] - 0s 334us/step - loss: 4.3018 - root_mean_squared_error: 2.0741\n",
      "Epoch 6/70\n",
      "12/12 [==============================] - 0s 334us/step - loss: 1.9353 - root_mean_squared_error: 1.3911\n",
      "Epoch 7/70\n",
      "12/12 [==============================] - 0s 334us/step - loss: 1.7770 - root_mean_squared_error: 1.3330\n",
      "Epoch 8/70\n",
      "12/12 [==============================] - 0s 417us/step - loss: 2.0220 - root_mean_squared_error: 1.4220\n",
      "Epoch 9/70\n",
      "12/12 [==============================] - 0s 333us/step - loss: 1.5232 - root_mean_squared_error: 1.2342\n",
      "Epoch 10/70\n",
      "12/12 [==============================] - 0s 333us/step - loss: 2.0890 - root_mean_squared_error: 1.4453\n",
      "Epoch 11/70\n",
      "12/12 [==============================] - 0s 333us/step - loss: 1.1170 - root_mean_squared_error: 1.0569\n",
      "Epoch 12/70\n",
      "12/12 [==============================] - 0s 333us/step - loss: 1.5833 - root_mean_squared_error: 1.2583\n",
      "Epoch 13/70\n",
      "12/12 [==============================] - 0s 333us/step - loss: 1.0739 - root_mean_squared_error: 1.0363\n",
      "Epoch 14/70\n",
      "12/12 [==============================] - 0s 333us/step - loss: 1.6055 - root_mean_squared_error: 1.2671\n",
      "Epoch 15/70\n",
      "12/12 [==============================] - 0s 333us/step - loss: 1.4782 - root_mean_squared_error: 1.2158\n",
      "Epoch 16/70\n",
      "12/12 [==============================] - 0s 333us/step - loss: 1.2779 - root_mean_squared_error: 1.1305\n",
      "Epoch 17/70\n",
      "12/12 [==============================] - 0s 333us/step - loss: 1.6884 - root_mean_squared_error: 1.2994\n",
      "Epoch 18/70\n",
      "12/12 [==============================] - 0s 333us/step - loss: 1.4696 - root_mean_squared_error: 1.2123\n",
      "Epoch 19/70\n",
      "12/12 [==============================] - 0s 333us/step - loss: 1.0628 - root_mean_squared_error: 1.0309\n",
      "Epoch 20/70\n",
      "12/12 [==============================] - 0s 333us/step - loss: 1.8336 - root_mean_squared_error: 1.3541\n",
      "Epoch 21/70\n",
      "12/12 [==============================] - 0s 333us/step - loss: 1.7393 - root_mean_squared_error: 1.3188\n",
      "Epoch 22/70\n",
      "12/12 [==============================] - 0s 333us/step - loss: 1.5394 - root_mean_squared_error: 1.2407\n",
      "Epoch 23/70\n",
      "12/12 [==============================] - 0s 333us/step - loss: 1.6597 - root_mean_squared_error: 1.2883\n",
      "Epoch 24/70\n",
      "12/12 [==============================] - 0s 332us/step - loss: 1.4777 - root_mean_squared_error: 1.2156\n",
      "Epoch 25/70\n",
      "12/12 [==============================] - 0s 250us/step - loss: 0.7999 - root_mean_squared_error: 0.8944\n",
      "Epoch 26/70\n",
      "12/12 [==============================] - 0s 333us/step - loss: 2.0434 - root_mean_squared_error: 1.4295\n",
      "Epoch 27/70\n",
      "12/12 [==============================] - 0s 333us/step - loss: 0.8693 - root_mean_squared_error: 0.9324\n",
      "Epoch 28/70\n",
      "12/12 [==============================] - 0s 333us/step - loss: 1.7805 - root_mean_squared_error: 1.3344\n",
      "Epoch 29/70\n",
      "12/12 [==============================] - 0s 334us/step - loss: 1.3514 - root_mean_squared_error: 1.1625\n",
      "Epoch 30/70\n",
      "12/12 [==============================] - 0s 333us/step - loss: 1.4504 - root_mean_squared_error: 1.2043\n",
      "Epoch 31/70\n",
      "12/12 [==============================] - 0s 333us/step - loss: 1.6516 - root_mean_squared_error: 1.2851\n",
      "Epoch 32/70\n",
      "12/12 [==============================] - 0s 333us/step - loss: 1.1712 - root_mean_squared_error: 1.0822\n",
      "Epoch 33/70\n",
      "12/12 [==============================] - 0s 333us/step - loss: 1.5196 - root_mean_squared_error: 1.2327\n",
      "Epoch 34/70\n",
      "12/12 [==============================] - 0s 333us/step - loss: 1.5662 - root_mean_squared_error: 1.2515\n",
      "Epoch 35/70\n",
      "12/12 [==============================] - 0s 333us/step - loss: 1.3779 - root_mean_squared_error: 1.1739\n",
      "Epoch 36/70\n",
      "12/12 [==============================] - 0s 333us/step - loss: 1.3693 - root_mean_squared_error: 1.1702\n",
      "Epoch 37/70\n",
      "12/12 [==============================] - 0s 333us/step - loss: 1.8351 - root_mean_squared_error: 1.3547\n",
      "Epoch 38/70\n",
      "12/12 [==============================] - 0s 333us/step - loss: 1.2719 - root_mean_squared_error: 1.1278\n",
      "Epoch 39/70\n",
      "12/12 [==============================] - 0s 333us/step - loss: 1.1841 - root_mean_squared_error: 1.0882\n",
      "Epoch 40/70\n",
      "12/12 [==============================] - 0s 333us/step - loss: 2.0075 - root_mean_squared_error: 1.4168\n",
      "Epoch 41/70\n",
      "12/12 [==============================] - 0s 250us/step - loss: 1.6261 - root_mean_squared_error: 1.2752\n",
      "Epoch 42/70\n",
      "12/12 [==============================] - 0s 333us/step - loss: 1.3154 - root_mean_squared_error: 1.1469\n",
      "Epoch 43/70\n",
      "12/12 [==============================] - 0s 333us/step - loss: 1.5932 - root_mean_squared_error: 1.2622\n",
      "Epoch 44/70\n",
      "12/12 [==============================] - 0s 333us/step - loss: 1.4458 - root_mean_squared_error: 1.2024\n",
      "Epoch 45/70\n",
      "12/12 [==============================] - 0s 334us/step - loss: 1.1401 - root_mean_squared_error: 1.0678\n",
      "Epoch 46/70\n",
      "12/12 [==============================] - 0s 250us/step - loss: 1.8971 - root_mean_squared_error: 1.3773\n",
      "Epoch 47/70\n",
      "12/12 [==============================] - 0s 334us/step - loss: 1.4106 - root_mean_squared_error: 1.1877\n",
      "Epoch 48/70\n",
      "12/12 [==============================] - 0s 333us/step - loss: 1.2135 - root_mean_squared_error: 1.1016\n",
      "Epoch 49/70\n",
      "12/12 [==============================] - 0s 333us/step - loss: 1.3735 - root_mean_squared_error: 1.1720\n",
      "Epoch 50/70\n",
      "12/12 [==============================] - 0s 250us/step - loss: 1.8673 - root_mean_squared_error: 1.3665\n",
      "Epoch 51/70\n",
      "12/12 [==============================] - 0s 333us/step - loss: 1.4926 - root_mean_squared_error: 1.2217\n",
      "Epoch 52/70\n",
      "12/12 [==============================] - 0s 333us/step - loss: 1.1657 - root_mean_squared_error: 1.0797\n",
      "Epoch 53/70\n",
      "12/12 [==============================] - 0s 333us/step - loss: 1.1601 - root_mean_squared_error: 1.0771\n",
      "Epoch 54/70\n",
      "12/12 [==============================] - 0s 332us/step - loss: 1.0896 - root_mean_squared_error: 1.0438\n",
      "Epoch 55/70\n",
      "12/12 [==============================] - 0s 336us/step - loss: 1.7566 - root_mean_squared_error: 1.3254\n",
      "Epoch 56/70\n",
      "12/12 [==============================] - 0s 333us/step - loss: 1.5037 - root_mean_squared_error: 1.2263\n",
      "Epoch 57/70\n",
      "12/12 [==============================] - 0s 250us/step - loss: 1.7236 - root_mean_squared_error: 1.3129\n",
      "Epoch 58/70\n",
      "12/12 [==============================] - 0s 333us/step - loss: 1.2353 - root_mean_squared_error: 1.1115\n",
      "Epoch 59/70\n",
      "12/12 [==============================] - 0s 333us/step - loss: 1.1786 - root_mean_squared_error: 1.0856\n",
      "Epoch 60/70\n",
      "12/12 [==============================] - 0s 333us/step - loss: 1.8332 - root_mean_squared_error: 1.3540\n",
      "Epoch 61/70\n",
      "12/12 [==============================] - 0s 250us/step - loss: 1.3275 - root_mean_squared_error: 1.1522\n",
      "Epoch 62/70\n",
      "12/12 [==============================] - 0s 333us/step - loss: 0.8771 - root_mean_squared_error: 0.9365\n",
      "Epoch 63/70\n",
      "12/12 [==============================] - 0s 333us/step - loss: 1.5140 - root_mean_squared_error: 1.2305\n",
      "Epoch 64/70\n",
      "12/12 [==============================] - 0s 333us/step - loss: 1.3916 - root_mean_squared_error: 1.1797\n",
      "Epoch 65/70\n",
      "12/12 [==============================] - 0s 417us/step - loss: 1.2521 - root_mean_squared_error: 1.1190\n",
      "Epoch 66/70\n",
      "12/12 [==============================] - 0s 335us/step - loss: 1.4920 - root_mean_squared_error: 1.2215\n",
      "Epoch 67/70\n",
      "12/12 [==============================] - 0s 333us/step - loss: 1.4566 - root_mean_squared_error: 1.2069\n",
      "Epoch 68/70\n",
      "12/12 [==============================] - 0s 417us/step - loss: 1.6944 - root_mean_squared_error: 1.3017\n",
      "Epoch 69/70\n",
      "12/12 [==============================] - 0s 333us/step - loss: 1.2463 - root_mean_squared_error: 1.1164\n",
      "Epoch 70/70\n",
      "12/12 [==============================] - 0s 333us/step - loss: 1.2356 - root_mean_squared_error: 1.1116\n"
     ]
    }
   ],
   "source": [
    "learning_rate = 0.1\n",
    "epochs = 70\n",
    "my_batch_size = 1\n",
    "\n",
    "my_model = build_module(learning_rate)\n",
    "trained_weight, trained_bias, epochs, rmse = train_model(my_model, my_features, my_label, epochs, my_batch_size)"
   ]
  },
  {
   "cell_type": "markdown",
   "metadata": {},
   "source": [
    "#### Plot the model (represented by a red line)"
   ]
  },
  {
   "cell_type": "code",
   "execution_count": 16,
   "metadata": {},
   "outputs": [
    {
     "name": "stderr",
     "output_type": "stream",
     "text": [
      "c:\\Users\\Joaki\\anaconda3\\lib\\site-packages\\numpy\\core\\_asarray.py:171: VisibleDeprecationWarning: Creating an ndarray from ragged nested sequences (which is a list-or-tuple of lists-or-tuples-or ndarrays with different lengths or shapes) is deprecated. If you meant to do this, you must specify 'dtype=object' when creating the ndarray.\n",
      "  return array(a, dtype, copy=False, order=order, subok=True)\n"
     ]
    },
    {
     "data": {
      "image/png": "[encoded data removed]",
      "text/plain": [
       "<Figure size 432x288 with 1 Axes>"
      ]
     },
     "metadata": {
      "needs_background": "light"
     },
     "output_type": "display_data"
    }
   ],
   "source": [
    "# Label axes\n",
    "plt.xlabel(\"features\")\n",
    "plt.ylabel(\"label\")\n",
    "\n",
    "# Plot features vs label\n",
    "plt.scatter(my_features, my_label)\n",
    "\n",
    "# Red line representing the model\n",
    "x0 = 0 # Starts at (0, 0)\n",
    "y0 = trained_bias\n",
    "x1 = my_features[-1]\n",
    "y1 = trained_bias + (trained_weight * x1)\n",
    "\n",
    "plt.plot([x0, x1], [y0, y1], c='r')\n",
    "plt.show()"
   ]
  },
  {
   "cell_type": "markdown",
   "metadata": {},
   "source": [
    "#### Plot the loss curve"
   ]
  },
  {
   "cell_type": "code",
   "execution_count": 17,
   "metadata": {},
   "outputs": [
    {
     "data": {
      "image/png": "[encoded data removed]",
      "text/plain": [
       "<Figure size 432x288 with 1 Axes>"
      ]
     },
     "metadata": {
      "needs_background": "light"
     },
     "output_type": "display_data"
    }
   ],
   "source": [
    "plt.figure()\n",
    "plt.xlabel(\"Epoch\")\n",
    "plt.ylabel(\"Root Mean Squared Error\")\n",
    "\n",
    "plt.plot(epochs, rmse, label=\"Loss\")\n",
    "plt.legend()\n",
    "plt.ylim([rmse.min()*0.97, rmse.max()])\n",
    "plt.show()"
   ]
  },
  {
   "cell_type": "markdown",
   "metadata": {},
   "source": [
    "## Summary - Hyperparameters\n",
    "\n",
    "Need to find the best hyperparameters for your dataset. Some rule of thumb:\n",
    "\n",
    "- Training loss should decrease, and not oscillates\n",
    "- Increase number of epochs if the training loss does not converge\n",
    "- Increase learning rate if the training loss decreases to slowly\n",
    "- Decrease learning rate if training loss varies wildly (oscillates)\n",
    "- Start with large batch size, then decrease until you see degration"
   ]
  }
 ],
 "metadata": {
  "kernelspec": {
   "display_name": "Python 3.8.8 ('base')",
   "language": "python",
   "name": "python3"
  },
  "language_info": {
   "codemirror_mode": {
    "name": "ipython",
    "version": 3
   },
   "file_extension": ".py",
   "mimetype": "text/x-python",
   "name": "python",
   "nbconvert_exporter": "python",
   "pygments_lexer": "ipython3",
   "version": "3.8.8"
  },
  "orig_nbformat": 4,
  "vscode": {
   "interpreter": {
    "hash": "ac6a79c52d88df0daa2f9c8643054c63b4d85efa37a82115302f340d6d358068"
   }
  }
 },
 "nbformat": 4,
 "nbformat_minor": 2
}
