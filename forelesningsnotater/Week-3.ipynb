{
 "cells": [
  {
   "cell_type": "markdown",
   "metadata": {},
   "source": [
    "# Perceptron\n",
    "Only for binary-class classification\n",
    "\n",
    "Need to adjust $w$ and $b$ (in $y = w^rx + b$) to fit a line that can distinguish the dataset:\n",
    "- Use the perceptron learning rules - PLR\n",
    "  - $\\Delta w = \\eta * error * input$  \n",
    "    - $error = t - y = target - value$\n",
    "    - $\\eta = learning rate$\n",
    "\n",
    "- **Activation function:** the output function of the perceptron (e.g. step function)\n",
    "\n",
    "# Cost functions\n",
    "\n",
    "- Need to derive its first derivative\n",
    "  - Want to maximize or minimize the function (e.g. minimize cost function, maximize benefit function)\n",
    "- Squared such as SSE to be convex\n",
    "  - Means you are 100% surtain to find a maximum or minimum point\n",
    "  - If its not square, there could be multiple maximum/minimum point and we are only interested in the global maximum/minimum"
   ]
  },
  {
   "cell_type": "code",
   "execution_count": 19,
   "metadata": {},
   "outputs": [],
   "source": [
    "#animate GD algorithm: code from Rasmus <openrasmus@gmail.com>\n",
    "import matplotlib\n",
    "import matplotlib.pyplot as plt\n",
    "import numpy as np\n",
    "import random"
   ]
  },
  {
   "cell_type": "code",
   "execution_count": 25,
   "metadata": {},
   "outputs": [
    {
     "name": "stdout",
     "output_type": "stream",
     "text": [
      "-90.0\n"
     ]
    },
    {
     "data": {
      "image/png": "[encoded data removed]",
      "text/plain": [
       "<Figure size 432x288 with 1 Axes>"
      ]
     },
     "metadata": {
      "needs_background": "light"
     },
     "output_type": "display_data"
    }
   ],
   "source": [
    "def f(x):\n",
    "  return(5*x**2+2*x-4)\n",
    "  \n",
    "def dfdx(x):\n",
    "  return(10*x+2)\n",
    "  \n",
    "iterations = 500\n",
    "eta = 0.01\n",
    "xx = np.arange(-100, 100, 0.1)\n",
    "#x = random.randrange(-100, 100, 2)\n",
    "x = -90.0\n",
    "print(x)\n",
    "\n",
    "#plt.close('all')\n",
    "fig = plt.figure()\n",
    "plt.xlabel('x')\n",
    "plt.ylabel('y')\n",
    "\n",
    "for i in range(iterations):\n",
    "  x += -eta * dfdx(x);    #try: eta/(i+1) \n",
    "  plt.plot(x,f(x),'go')\n",
    "  plt.plot(xx, f(xx), 'b-')\n",
    "  if np.abs(dfdx(x)) <= 10**-1:\n",
    "    break"
   ]
  },
  {
   "cell_type": "markdown",
   "metadata": {},
   "source": [
    "# Training mode\n",
    "- Batch gradient\n",
    "- Mini Batch gradient\n",
    "- Stochastic Gradient Descent (SGD)\n",
    "- Large learning rate may overshoot the global minimum and fail\n",
    "converge or even diverge"
   ]
  },
  {
   "cell_type": "code",
   "execution_count": 26,
   "metadata": {},
   "outputs": [],
   "source": [
    "class adaline(object):\n",
    "  def __init__(self, eta=0.01, n_iter=50):\n",
    "    self.eta = eta\n",
    "    self.n_iter = n_iter\n",
    "\n",
    "  def fit(self, X, y):\n",
    "    self.w_ = np.zeros(1 + X.shape[1])\n",
    "    self.cost_ = []\n",
    "    for i in range(self.n_iter):\n",
    "      output = self.net_input(X)\n",
    "      errors = (y - output)\n",
    "      self.w_[1:] += self.eta * X.T.dot(errors)\n",
    "      self.w_[0] += self.eta * errors.sum()\n",
    "      cost = (errors**2).sum() / 2.0\n",
    "      self.cost_.append(cost)\n",
    "    return self\n",
    "\n",
    "  def net_input(self, X):\n",
    "    return np.dot(X, self.w_[1:]) + self.w_[0]\n",
    "\n",
    "  def activation(self, X):\n",
    "    return self.net_input(X)\n",
    "\n",
    "  def predict(self, X):\n",
    "    return np.where(self.activation(X) >= 0.0, 1, -1)"
   ]
  }
 ],
 "metadata": {
  "kernelspec": {
   "display_name": "Python 3.8.3 64-bit ('anaconda3')",
   "language": "python",
   "name": "python3"
  },
  "language_info": {
   "codemirror_mode": {
    "name": "ipython",
    "version": 3
   },
   "file_extension": ".py",
   "mimetype": "text/x-python",
   "name": "python",
   "nbconvert_exporter": "python",
   "pygments_lexer": "ipython3",
   "version": "3.8.3"
  },
  "orig_nbformat": 4,
  "vscode": {
   "interpreter": {
    "hash": "13ae93b16461af37ebfaaceb1bb3c0cc3550f0983bf9dbd913c288404fd40250"
   }
  }
 },
 "nbformat": 4,
 "nbformat_minor": 2
}
